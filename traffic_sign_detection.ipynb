{
  "cells": [
    {
      "cell_type": "markdown",
      "metadata": {
        "id": "zttNDLcObr5N"
      },
      "source": [
        "## Import Data"
      ]
    },
    {
      "cell_type": "markdown",
      "metadata": {},
      "source": [
        "### Upload dataset.zip file and input.mp4"
      ]
    },
    {
      "cell_type": "code",
      "execution_count": null,
      "metadata": {},
      "outputs": [],
      "source": [
        "from google.colab import files\n",
        "uploaded = files.upload()"
      ]
    },
    {
      "cell_type": "markdown",
      "metadata": {
        "id": "v2BPdnFTlMAc"
      },
      "source": [
        "## Clone YOLO Repository (Required)\n",
        "\n"
      ]
    },
    {
      "cell_type": "code",
      "execution_count": 26,
      "metadata": {
        "colab": {
          "base_uri": "https://localhost:8080/"
        },
        "id": "zQGAzWTv9dL_",
        "outputId": "33b4b57b-179d-424c-e426-b66ead4725c3"
      },
      "outputs": [
        {
          "name": "stdout",
          "output_type": "stream",
          "text": [
            "Cloning into 'yolov5'...\n",
            "remote: Enumerating objects: 16308, done.\u001b[K\n",
            "remote: Counting objects: 100% (205/205), done.\u001b[K\n",
            "remote: Compressing objects: 100% (172/172), done.\u001b[K\n",
            "remote: Total 16308 (delta 96), reused 96 (delta 33), pack-reused 16103\u001b[K\n",
            "Receiving objects: 100% (16308/16308), 15.09 MiB | 10.43 MiB/s, done.\n",
            "Resolving deltas: 100% (11127/11127), done.\n"
          ]
        }
      ],
      "source": [
        "!git clone https://github.com/ultralytics/yolov5  # clone"
      ]
    },
    {
      "cell_type": "code",
      "execution_count": null,
      "metadata": {
        "id": "wr0crlyZ0EFZ"
      },
      "outputs": [],
      "source": [
        "!unzip /content/dataset.zip -d /content/yolov5/dataset"
      ]
    },
    {
      "cell_type": "code",
      "execution_count": 28,
      "metadata": {
        "id": "2pj7-V35rAJ3"
      },
      "outputs": [],
      "source": [
        "!mv /content/yolov5/dataset/dataset.yaml /content/yolov5/"
      ]
    },
    {
      "cell_type": "markdown",
      "metadata": {
        "id": "P9tt_QisMjrM"
      },
      "source": [
        "##  Change directory"
      ]
    },
    {
      "cell_type": "code",
      "execution_count": 29,
      "metadata": {
        "colab": {
          "base_uri": "https://localhost:8080/"
        },
        "id": "GLY6qP_9j6-P",
        "outputId": "9d74c7e6-eba3-4626-9b07-73fb89d474d4"
      },
      "outputs": [
        {
          "name": "stdout",
          "output_type": "stream",
          "text": [
            "/content/yolov5\n"
          ]
        }
      ],
      "source": [
        "%cd yolov5"
      ]
    },
    {
      "cell_type": "markdown",
      "metadata": {
        "id": "NeK2O2eSMk4N"
      },
      "source": [
        "##  Install all the requirements"
      ]
    },
    {
      "cell_type": "code",
      "execution_count": 30,
      "metadata": {
        "colab": {
          "base_uri": "https://localhost:8080/"
        },
        "id": "BLI2JVfFj99u",
        "outputId": "2d65e982-0423-41c6-b23e-f669279ea6b6"
      },
      "outputs": [
        {
          "name": "stdout",
          "output_type": "stream",
          "text": [
            "Requirement already satisfied: gitpython>=3.1.30 in /usr/local/lib/python3.10/dist-packages (from -r requirements.txt (line 5)) (3.1.41)\n",
            "Requirement already satisfied: matplotlib>=3.3 in /usr/local/lib/python3.10/dist-packages (from -r requirements.txt (line 6)) (3.7.1)\n",
            "Requirement already satisfied: numpy>=1.22.2 in /usr/local/lib/python3.10/dist-packages (from -r requirements.txt (line 7)) (1.23.5)\n",
            "Requirement already satisfied: opencv-python>=4.1.1 in /usr/local/lib/python3.10/dist-packages (from -r requirements.txt (line 8)) (4.8.0.76)\n",
            "Requirement already satisfied: Pillow>=10.0.1 in /usr/local/lib/python3.10/dist-packages (from -r requirements.txt (line 9)) (10.2.0)\n",
            "Requirement already satisfied: psutil in /usr/local/lib/python3.10/dist-packages (from -r requirements.txt (line 10)) (5.9.5)\n",
            "Requirement already satisfied: PyYAML>=5.3.1 in /usr/local/lib/python3.10/dist-packages (from -r requirements.txt (line 11)) (6.0.1)\n",
            "Requirement already satisfied: requests>=2.23.0 in /usr/local/lib/python3.10/dist-packages (from -r requirements.txt (line 12)) (2.31.0)\n",
            "Requirement already satisfied: scipy>=1.4.1 in /usr/local/lib/python3.10/dist-packages (from -r requirements.txt (line 13)) (1.11.4)\n",
            "Requirement already satisfied: thop>=0.1.1 in /usr/local/lib/python3.10/dist-packages (from -r requirements.txt (line 14)) (0.1.1.post2209072238)\n",
            "Requirement already satisfied: torch>=1.8.0 in /usr/local/lib/python3.10/dist-packages (from -r requirements.txt (line 15)) (2.1.0+cu121)\n",
            "Requirement already satisfied: torchvision>=0.9.0 in /usr/local/lib/python3.10/dist-packages (from -r requirements.txt (line 16)) (0.16.0+cu121)\n",
            "Requirement already satisfied: tqdm>=4.64.0 in /usr/local/lib/python3.10/dist-packages (from -r requirements.txt (line 17)) (4.66.1)\n",
            "Requirement already satisfied: ultralytics>=8.0.232 in /usr/local/lib/python3.10/dist-packages (from -r requirements.txt (line 18)) (8.1.1)\n",
            "Requirement already satisfied: pandas>=1.1.4 in /usr/local/lib/python3.10/dist-packages (from -r requirements.txt (line 27)) (1.5.3)\n",
            "Requirement already satisfied: seaborn>=0.11.0 in /usr/local/lib/python3.10/dist-packages (from -r requirements.txt (line 28)) (0.12.2)\n",
            "Requirement already satisfied: setuptools>=65.5.1 in /usr/local/lib/python3.10/dist-packages (from -r requirements.txt (line 42)) (67.7.2)\n",
            "Requirement already satisfied: gitdb<5,>=4.0.1 in /usr/local/lib/python3.10/dist-packages (from gitpython>=3.1.30->-r requirements.txt (line 5)) (4.0.11)\n",
            "Requirement already satisfied: contourpy>=1.0.1 in /usr/local/lib/python3.10/dist-packages (from matplotlib>=3.3->-r requirements.txt (line 6)) (1.2.0)\n",
            "Requirement already satisfied: cycler>=0.10 in /usr/local/lib/python3.10/dist-packages (from matplotlib>=3.3->-r requirements.txt (line 6)) (0.12.1)\n",
            "Requirement already satisfied: fonttools>=4.22.0 in /usr/local/lib/python3.10/dist-packages (from matplotlib>=3.3->-r requirements.txt (line 6)) (4.47.0)\n",
            "Requirement already satisfied: kiwisolver>=1.0.1 in /usr/local/lib/python3.10/dist-packages (from matplotlib>=3.3->-r requirements.txt (line 6)) (1.4.5)\n",
            "Requirement already satisfied: packaging>=20.0 in /usr/local/lib/python3.10/dist-packages (from matplotlib>=3.3->-r requirements.txt (line 6)) (23.2)\n",
            "Requirement already satisfied: pyparsing>=2.3.1 in /usr/local/lib/python3.10/dist-packages (from matplotlib>=3.3->-r requirements.txt (line 6)) (3.1.1)\n",
            "Requirement already satisfied: python-dateutil>=2.7 in /usr/local/lib/python3.10/dist-packages (from matplotlib>=3.3->-r requirements.txt (line 6)) (2.8.2)\n",
            "Requirement already satisfied: charset-normalizer<4,>=2 in /usr/local/lib/python3.10/dist-packages (from requests>=2.23.0->-r requirements.txt (line 12)) (3.3.2)\n",
            "Requirement already satisfied: idna<4,>=2.5 in /usr/local/lib/python3.10/dist-packages (from requests>=2.23.0->-r requirements.txt (line 12)) (3.6)\n",
            "Requirement already satisfied: urllib3<3,>=1.21.1 in /usr/local/lib/python3.10/dist-packages (from requests>=2.23.0->-r requirements.txt (line 12)) (2.0.7)\n",
            "Requirement already satisfied: certifi>=2017.4.17 in /usr/local/lib/python3.10/dist-packages (from requests>=2.23.0->-r requirements.txt (line 12)) (2023.11.17)\n",
            "Requirement already satisfied: filelock in /usr/local/lib/python3.10/dist-packages (from torch>=1.8.0->-r requirements.txt (line 15)) (3.13.1)\n",
            "Requirement already satisfied: typing-extensions in /usr/local/lib/python3.10/dist-packages (from torch>=1.8.0->-r requirements.txt (line 15)) (4.5.0)\n",
            "Requirement already satisfied: sympy in /usr/local/lib/python3.10/dist-packages (from torch>=1.8.0->-r requirements.txt (line 15)) (1.12)\n",
            "Requirement already satisfied: networkx in /usr/local/lib/python3.10/dist-packages (from torch>=1.8.0->-r requirements.txt (line 15)) (3.2.1)\n",
            "Requirement already satisfied: jinja2 in /usr/local/lib/python3.10/dist-packages (from torch>=1.8.0->-r requirements.txt (line 15)) (3.1.2)\n",
            "Requirement already satisfied: fsspec in /usr/local/lib/python3.10/dist-packages (from torch>=1.8.0->-r requirements.txt (line 15)) (2023.6.0)\n",
            "Requirement already satisfied: triton==2.1.0 in /usr/local/lib/python3.10/dist-packages (from torch>=1.8.0->-r requirements.txt (line 15)) (2.1.0)\n",
            "Requirement already satisfied: py-cpuinfo in /usr/local/lib/python3.10/dist-packages (from ultralytics>=8.0.232->-r requirements.txt (line 18)) (9.0.0)\n",
            "Requirement already satisfied: hub-sdk>=0.0.2 in /usr/local/lib/python3.10/dist-packages (from ultralytics>=8.0.232->-r requirements.txt (line 18)) (0.0.3)\n",
            "Requirement already satisfied: pytz>=2020.1 in /usr/local/lib/python3.10/dist-packages (from pandas>=1.1.4->-r requirements.txt (line 27)) (2023.3.post1)\n",
            "Requirement already satisfied: smmap<6,>=3.0.1 in /usr/local/lib/python3.10/dist-packages (from gitdb<5,>=4.0.1->gitpython>=3.1.30->-r requirements.txt (line 5)) (5.0.1)\n",
            "Requirement already satisfied: six>=1.5 in /usr/local/lib/python3.10/dist-packages (from python-dateutil>=2.7->matplotlib>=3.3->-r requirements.txt (line 6)) (1.16.0)\n",
            "Requirement already satisfied: MarkupSafe>=2.0 in /usr/local/lib/python3.10/dist-packages (from jinja2->torch>=1.8.0->-r requirements.txt (line 15)) (2.1.3)\n",
            "Requirement already satisfied: mpmath>=0.19 in /usr/local/lib/python3.10/dist-packages (from sympy->torch>=1.8.0->-r requirements.txt (line 15)) (1.3.0)\n"
          ]
        }
      ],
      "source": [
        "!pip install -r requirements.txt  # install"
      ]
    },
    {
      "cell_type": "code",
      "execution_count": 31,
      "metadata": {
        "colab": {
          "base_uri": "https://localhost:8080/"
        },
        "id": "ljjgZmNOOpO9",
        "outputId": "e9cc4850-f1ff-4624-a474-66970ef091e1"
      },
      "outputs": [
        {
          "name": "stdout",
          "output_type": "stream",
          "text": [
            "/content/yolov5\n"
          ]
        }
      ],
      "source": [
        "%cd /content/yolov5"
      ]
    },
    {
      "cell_type": "markdown",
      "metadata": {
        "id": "KYyHa0vRMp6v"
      },
      "source": [
        "##  Train the YOLO model\n",
        "\n",
        "#### Make sure the dataset.yaml is present and the all the files are present as required"
      ]
    },
    {
      "cell_type": "code",
      "execution_count": null,
      "metadata": {
        "id": "cNmEk-ECx22c"
      },
      "outputs": [],
      "source": [
        "# Train the YOLO model on our dataset\n",
        "## You can change the type by chainging the \"--weights\" parameter\n",
        "# Change the number of epochs as per requi  rements\n",
        "!python train.py --img 480 --batch 48 --epochs 150 --data dataset.yaml --weights yolov5l.pt"
      ]
    },
    {
      "cell_type": "markdown",
      "metadata": {
        "id": "mLK-_0SW6WQC"
      },
      "source": [
        "## Loading Model"
      ]
    },
    {
      "cell_type": "code",
      "execution_count": null,
      "metadata": {
        "id": "ZurRMFk0MmYN"
      },
      "outputs": [],
      "source": [
        "import torch"
      ]
    },
    {
      "cell_type": "code",
      "execution_count": null,
      "metadata": {
        "id": "UeHR5gW5_a_a"
      },
      "outputs": [],
      "source": [
        "# load the model\n",
        "model = torch.hub.load('.', 'custom', path='/content/yolov5/runs/train/exp/weights/best.pt', source='local')"
      ]
    },
    {
      "cell_type": "markdown",
      "metadata": {
        "id": "2jvij9sBi1nu"
      },
      "source": [
        "## Video Detection"
      ]
    },
    {
      "cell_type": "code",
      "execution_count": null,
      "metadata": {
        "id": "EMo8RFJIi1nu"
      },
      "outputs": [],
      "source": [
        "import cv2\n",
        "import numpy as np\n",
        "\n",
        "# Function to run and store the video\n",
        "def run_video(input, output):\n",
        "    # Open the video file\n",
        "    cap = cv2.VideoCapture(input)\n",
        "\n",
        "    # Get the video's frame width, height, and frames per second (fps)\n",
        "    frame_width = int(cap.get(3))\n",
        "    frame_height = int(cap.get(4))\n",
        "    fps = cap.get(5)\n",
        "\n",
        "    # Define the codec and create a VideoWriter object\n",
        "    fourcc = cv2.VideoWriter_fourcc(*'mp4v')\n",
        "    out = cv2.VideoWriter(output, fourcc, fps, (frame_width, frame_height))\n",
        "\n",
        "    while cap.isOpened():\n",
        "        ret, frame = cap.read()\n",
        "\n",
        "        if not ret:\n",
        "            break  # Break the loop if there are no more frames\n",
        "\n",
        "        # Make detections\n",
        "        results = model(frame)\n",
        "\n",
        "        # Render the frame with detections\n",
        "        rendered_frame = np.squeeze(results.render())\n",
        "\n",
        "        # Save the rendered frame to the output video\n",
        "        out.write(rendered_frame)\n",
        "\n",
        "        if cv2.waitKey(10) & 0xFF == ord('q'):\n",
        "            break\n",
        "\n",
        "    # Release the video capture object, the VideoWriter object, and close all windows\n",
        "    cap.release()\n",
        "    out.release()\n",
        "    cv2.destroyAllWindows()"
      ]
    },
    {
      "cell_type": "code",
      "execution_count": null,
      "metadata": {
        "colab": {
          "base_uri": "https://localhost:8080/"
        },
        "id": "XN7lDunki1nv",
        "outputId": "918c7a14-a984-406b-a5c0-286a2967eba5"
      },
      "outputs": [
        {
          "name": "stderr",
          "output_type": "stream",
          "text": [
            "WARNING ⚠️ NMS time limit 0.550s exceeded\n"
          ]
        }
      ],
      "source": [
        "run_video(\"/content/input.mp4\", \"/content/output.mp4\")"
      ]
    },
    {
      "cell_type": "code",
      "execution_count": null,
      "metadata": {
        "colab": {
          "base_uri": "https://localhost:8080/"
        },
        "id": "_aVRJpmkEljZ",
        "outputId": "08b16576-d41a-4302-d192-29a9d4819529"
      },
      "outputs": [
        {
          "name": "stdout",
          "output_type": "stream",
          "text": [
            "ffmpeg version 4.4.2-0ubuntu0.22.04.1 Copyright (c) 2000-2021 the FFmpeg developers\n",
            "  built with gcc 11 (Ubuntu 11.2.0-19ubuntu1)\n",
            "  configuration: --prefix=/usr --extra-version=0ubuntu0.22.04.1 --toolchain=hardened --libdir=/usr/lib/x86_64-linux-gnu --incdir=/usr/include/x86_64-linux-gnu --arch=amd64 --enable-gpl --disable-stripping --enable-gnutls --enable-ladspa --enable-libaom --enable-libass --enable-libbluray --enable-libbs2b --enable-libcaca --enable-libcdio --enable-libcodec2 --enable-libdav1d --enable-libflite --enable-libfontconfig --enable-libfreetype --enable-libfribidi --enable-libgme --enable-libgsm --enable-libjack --enable-libmp3lame --enable-libmysofa --enable-libopenjpeg --enable-libopenmpt --enable-libopus --enable-libpulse --enable-librabbitmq --enable-librubberband --enable-libshine --enable-libsnappy --enable-libsoxr --enable-libspeex --enable-libsrt --enable-libssh --enable-libtheora --enable-libtwolame --enable-libvidstab --enable-libvorbis --enable-libvpx --enable-libwebp --enable-libx265 --enable-libxml2 --enable-libxvid --enable-libzimg --enable-libzmq --enable-libzvbi --enable-lv2 --enable-omx --enable-openal --enable-opencl --enable-opengl --enable-sdl2 --enable-pocketsphinx --enable-librsvg --enable-libmfx --enable-libdc1394 --enable-libdrm --enable-libiec61883 --enable-chromaprint --enable-frei0r --enable-libx264 --enable-shared\n",
            "  libavutil      56. 70.100 / 56. 70.100\n",
            "  libavcodec     58.134.100 / 58.134.100\n",
            "  libavformat    58. 76.100 / 58. 76.100\n",
            "  libavdevice    58. 13.100 / 58. 13.100\n",
            "  libavfilter     7.110.100 /  7.110.100\n",
            "  libswscale      5.  9.100 /  5.  9.100\n",
            "  libswresample   3.  9.100 /  3.  9.100\n",
            "  libpostproc    55.  9.100 / 55.  9.100\n",
            "Input #0, mov,mp4,m4a,3gp,3g2,mj2, from '/content/output.mp4':\n",
            "  Metadata:\n",
            "    major_brand     : isom\n",
            "    minor_version   : 512\n",
            "    compatible_brands: isomiso2mp41\n",
            "    encoder         : Lavf59.27.100\n",
            "  Duration: 00:01:44.00, start: 0.000000, bitrate: 9107 kb/s\n",
            "  Stream #0:0(und): Video: mpeg4 (Simple Profile) (mp4v / 0x7634706D), yuv420p, 848x480 [SAR 1:1 DAR 53:30], 9106 kb/s, 29.98 fps, 29.98 tbr, 29982 tbn, 14991 tbc (default)\n",
            "    Metadata:\n",
            "      handler_name    : VideoHandler\n",
            "      vendor_id       : [0][0][0][0]\n",
            "Stream mapping:\n",
            "  Stream #0:0 -> #0:0 (mpeg4 (native) -> h264 (libx264))\n",
            "Press [q] to stop, [?] for help\n",
            "\u001b[1;36m[libx264 @ 0x58484a0b4340] \u001b[0musing SAR=1/1\n",
            "\u001b[1;36m[libx264 @ 0x58484a0b4340] \u001b[0musing cpu capabilities: MMX2 SSE2Fast SSSE3 SSE4.2 AVX FMA3 BMI2 AVX2 AVX512\n",
            "\u001b[1;36m[libx264 @ 0x58484a0b4340] \u001b[0mprofile High, level 3.1, 4:2:0, 8-bit\n",
            "\u001b[1;36m[libx264 @ 0x58484a0b4340] \u001b[0m264 - core 163 r3060 5db6aa6 - H.264/MPEG-4 AVC codec - Copyleft 2003-2021 - http://www.videolan.org/x264.html - options: cabac=1 ref=3 deblock=1:0:0 analyse=0x3:0x113 me=hex subme=7 psy=1 psy_rd=1.00:0.00 mixed_ref=1 me_range=16 chroma_me=1 trellis=1 8x8dct=1 cqm=0 deadzone=21,11 fast_pskip=1 chroma_qp_offset=-2 threads=3 lookahead_threads=1 sliced_threads=0 nr=0 decimate=1 interlaced=0 bluray_compat=0 constrained_intra=0 bframes=3 b_pyramid=2 b_adapt=1 b_bias=0 direct=1 weightb=1 open_gop=0 weightp=2 keyint=250 keyint_min=25 scenecut=40 intra_refresh=0 rc_lookahead=40 rc=crf mbtree=1 crf=23.0 qcomp=0.60 qpmin=0 qpmax=69 qpstep=4 ip_ratio=1.40 aq=1:1.00\n",
            "Output #0, mp4, to 'final.mp4':\n",
            "  Metadata:\n",
            "    major_brand     : isom\n",
            "    minor_version   : 512\n",
            "    compatible_brands: isomiso2mp41\n",
            "    encoder         : Lavf58.76.100\n",
            "  Stream #0:0(und): Video: h264 (avc1 / 0x31637661), yuv420p(progressive), 848x480 [SAR 1:1 DAR 53:30], q=2-31, 29.98 fps, 14991 tbn (default)\n",
            "    Metadata:\n",
            "      handler_name    : VideoHandler\n",
            "      vendor_id       : [0][0][0][0]\n",
            "      encoder         : Lavc58.134.100 libx264\n",
            "    Side data:\n",
            "      cpb: bitrate max/min/avg: 0/0/0 buffer size: 0 vbv_delay: N/A\n",
            "frame= 3118 fps= 27 q=-1.0 Lsize=   32816kB time=00:01:43.89 bitrate=2587.5kbits/s speed=0.892x    \n",
            "video:32800kB audio:0kB subtitle:0kB other streams:0kB global headers:0kB muxing overhead: 0.049409%\n",
            "\u001b[1;36m[libx264 @ 0x58484a0b4340] \u001b[0mframe I:14    Avg QP:23.79  size: 35661\n",
            "\u001b[1;36m[libx264 @ 0x58484a0b4340] \u001b[0mframe P:2955  Avg QP:26.60  size: 10798\n",
            "\u001b[1;36m[libx264 @ 0x58484a0b4340] \u001b[0mframe B:149   Avg QP:28.64  size:  7908\n",
            "\u001b[1;36m[libx264 @ 0x58484a0b4340] \u001b[0mconsecutive B-frames: 91.9%  4.7%  1.9%  1.5%\n",
            "\u001b[1;36m[libx264 @ 0x58484a0b4340] \u001b[0mmb I  I16..4: 13.6% 75.9% 10.4%\n",
            "\u001b[1;36m[libx264 @ 0x58484a0b4340] \u001b[0mmb P  I16..4:  4.0%  9.1%  0.7%  P16..4: 49.7% 14.6%  7.9%  0.0%  0.0%    skip:14.1%\n",
            "\u001b[1;36m[libx264 @ 0x58484a0b4340] \u001b[0mmb B  I16..4:  3.0%  6.9%  0.6%  B16..8: 47.4% 12.2%  3.6%  direct: 3.8%  skip:22.6%  L0:62.5% L1:26.0% BI:11.5%\n",
            "\u001b[1;36m[libx264 @ 0x58484a0b4340] \u001b[0m8x8 transform intra:66.5% inter:89.8%\n",
            "\u001b[1;36m[libx264 @ 0x58484a0b4340] \u001b[0mcoded y,uvDC,uvAC intra: 52.2% 54.5% 5.4% inter: 31.2% 14.3% 0.4%\n",
            "\u001b[1;36m[libx264 @ 0x58484a0b4340] \u001b[0mi16 v,h,dc,p: 10% 70% 14%  6%\n",
            "\u001b[1;36m[libx264 @ 0x58484a0b4340] \u001b[0mi8 v,h,dc,ddl,ddr,vr,hd,vl,hu: 16% 36% 28%  4%  3%  3%  5%  2%  4%\n",
            "\u001b[1;36m[libx264 @ 0x58484a0b4340] \u001b[0mi4 v,h,dc,ddl,ddr,vr,hd,vl,hu: 22% 36% 15%  4%  5%  5%  6%  3%  4%\n",
            "\u001b[1;36m[libx264 @ 0x58484a0b4340] \u001b[0mi8c dc,h,v,p: 49% 35% 12%  4%\n",
            "\u001b[1;36m[libx264 @ 0x58484a0b4340] \u001b[0mWeighted P-Frames: Y:1.9% UV:0.5%\n",
            "\u001b[1;36m[libx264 @ 0x58484a0b4340] \u001b[0mref P L0: 76.4% 17.1%  4.9%  1.5%  0.0%\n",
            "\u001b[1;36m[libx264 @ 0x58484a0b4340] \u001b[0mref B L0: 92.3%  6.8%  0.9%\n",
            "\u001b[1;36m[libx264 @ 0x58484a0b4340] \u001b[0mref B L1: 98.5%  1.5%\n",
            "\u001b[1;36m[libx264 @ 0x58484a0b4340] \u001b[0mkb/s:2583.66\n"
          ]
        }
      ],
      "source": [
        "# !ffmpeg -i {\"/content/output.mp4\"} -vcodec libx264 {\"final.mp4\"}"
      ]
    },
    {
      "cell_type": "markdown",
      "metadata": {
        "id": "IerjVzgyi1nv"
      },
      "source": [
        "## Live Detection"
      ]
    },
    {
      "cell_type": "code",
      "execution_count": null,
      "metadata": {
        "id": "XTWQelpdi1nv"
      },
      "outputs": [],
      "source": [
        "# # Live feed from camera\n",
        "# cap = cv2.VideoCapture(0)\n",
        "# while cap.isOpened():\n",
        "#     ret, frame = cap.read()\n",
        "\n",
        "#     # Make detections\n",
        "#     results = model(frame)\n",
        "\n",
        "#     if cv2.waitKey(10) & 0xFF == ord('q'):\n",
        "#         break\n",
        "# cap.release()\n",
        "# cv2.destroyAllWindows()"
      ]
    },
    {
      "cell_type": "markdown",
      "metadata": {
        "id": "PMGZfi8EY_UE"
      },
      "source": [
        "## Metrics\n",
        "1.  F1 Score Curve (F1_curve.png)\n",
        "\n",
        "2. Precision-Recall Curve (PR_curve.png)\n",
        "\n",
        "3. Precision Curve (P_curve.png)\n",
        "\n",
        "4. Recall Curve (R_curve.png)\n",
        "\n",
        "5. Confusion Matrix (confusion_matrix.png)\n",
        "\n",
        "6. Normalized Confusion Matrix (confusion_matrix_normalized.png)\n",
        "\n",
        "7. Validation Batch Labels (val_batchX_labels.jpg)\n",
        "\n",
        "8. Validation Batch Predictions (val_batchX_pred.jpg)\n"
      ]
    }
  ],
  "metadata": {
    "accelerator": "GPU",
    "colab": {
      "provenance": []
    },
    "kernelspec": {
      "display_name": "Python 3",
      "name": "python3"
    },
    "language_info": {
      "name": "python"
    }
  },
  "nbformat": 4,
  "nbformat_minor": 0
}
